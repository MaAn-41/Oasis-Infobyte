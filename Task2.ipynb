{
 "cells": [
  {
   "cell_type": "code",
   "execution_count": null,
   "metadata": {},
   "outputs": [],
   "source": [
    "import pandas as pd\n",
    "import numpy as np\n",
    "from sklearn.preprocessing import StandardScaler\n",
    "from sklearn.cluster import KMeans\n",
    "import matplotlib.pyplot as plt\n",
    "import seaborn as sns"
   ]
  },
  {
   "cell_type": "code",
   "execution_count": null,
   "metadata": {},
   "outputs": [],
   "source": [
    "# Load the dataset\n",
    "df = pd.read_csv('customer_segmentation_dataset.csv')\n",
    "\n",
    "# Step 2: Data Exploration and Cleaning\n",
    "\n",
    "# Check for missing values\n",
    "print(df.isnull().sum())\n",
    "\n",
    "# Handle any missing values if necessary\n",
    "df.fillna(df.mean(), inplace=True)\n",
    "\n",
    "# Summary statistics\n",
    "print(df.describe())"
   ]
  },
  {
   "cell_type": "code",
   "execution_count": null,
   "metadata": {},
   "outputs": [],
   "source": [
    "# Step 3: Descriptive Statistics\n",
    "\n",
    "average_income = df['Income'].mean()\n",
    "print(f\"Average Income: {average_income}\")"
   ]
  },
  {
   "cell_type": "code",
   "execution_count": null,
   "metadata": {},
   "outputs": [],
   "source": [
    "# Step 4: Customer Segmentation\n",
    "\n",
    "# Select relevant features for clustering\n",
    "features = [\n",
    "    'Income', 'Kidhome', 'Teenhome', 'Recency', 'MntWines', 'MntFruits',\n",
    "    'MntMeatProducts', 'MntFishProducts', 'MntSweetProducts', 'MntGoldProds',\n",
    "    'NumDealsPurchases', 'NumWebPurchases', 'NumCatalogPurchases', 'NumStorePurchases',\n",
    "    'NumWebVisitsMonth', 'Age', 'Customer_Days', 'MntTotal', 'MntRegularProds'\n",
    "]\n",
    "\n",
    "# Standardize the data\n",
    "scaler = StandardScaler()\n",
    "df_scaled = scaler.fit_transform(df[features])\n",
    "\n",
    "# Determine the optimal number of clusters using the elbow method\n",
    "inertia = []\n",
    "for n in range(1, 11):\n",
    "    kmeans = KMeans(n_clusters=n, random_state=42)\n",
    "    kmeans.fit(df_scaled)\n",
    "    inertia.append(kmeans.inertia_)\n",
    "\n",
    "plt.plot(range(1, 11), inertia, marker='o')\n",
    "plt.xlabel('Number of Clusters')\n",
    "plt.ylabel('Inertia')\n",
    "plt.title('Elbow Method')\n",
    "plt.show()\n",
    "\n",
    "# Fit the K-means model with the optimal number of clusters (e.g., 3)\n",
    "optimal_clusters = 3\n",
    "kmeans = KMeans(n_clusters=optimal_clusters, random_state=42)\n",
    "df['Cluster'] = kmeans.fit_predict(df_scaled)"
   ]
  },
  {
   "cell_type": "code",
   "execution_count": null,
   "metadata": {},
   "outputs": [],
   "source": [
    "# Step 5: Visualization\n",
    "\n",
    "# Scatter plot of clusters based on Income and MntTotal\n",
    "sns.scatterplot(x='Income', y='MntTotal', hue='Cluster', data=df, palette='viridis')\n",
    "plt.title('Customer Segments by Income and Total Spending')\n",
    "plt.show()\n",
    "\n",
    "# Bar plot of average total purchase value per cluster\n",
    "cluster_summary = df.groupby('Cluster')['MntTotal'].mean().reset_index()\n",
    "sns.barplot(x='Cluster', y='MntTotal', data=cluster_summary, palette='viridis')\n",
    "plt.title('Average Total Purchase Value per Cluster')\n",
    "plt.show()"
   ]
  },
  {
   "cell_type": "code",
   "execution_count": null,
   "metadata": {},
   "outputs": [],
   "source": [
    "# Step 6: Insights and Recommendations\n",
    "\n",
    "# Summarize the characteristics of each segment\n",
    "summary = df.groupby('Cluster').agg({\n",
    "    'Income': 'mean',\n",
    "    'Kidhome': 'mean',\n",
    "    'Teenhome': 'mean',\n",
    "    'Recency': 'mean',\n",
    "    'MntWines': 'mean',\n",
    "    'MntFruits': 'mean',\n",
    "    'MntMeatProducts': 'mean',\n",
    "    'MntFishProducts': 'mean',\n",
    "    'MntSweetProducts': 'mean',\n",
    "    'MntGoldProds': 'mean',\n",
    "    'NumDealsPurchases': 'mean',\n",
    "    'NumWebPurchases': 'mean',\n",
    "    'NumCatalogPurchases': 'mean',\n",
    "    'NumStorePurchases': 'mean',\n",
    "    'NumWebVisitsMonth': 'mean',\n",
    "    'Age': 'mean',\n",
    "    'Customer_Days': 'mean',\n",
    "    'MntTotal': 'mean',\n",
    "    'MntRegularProds': 'mean'\n",
    "}).reset_index()\n",
    "\n",
    "print(summary)\n",
    "\n",
    "\n"
   ]
  },
  {
   "cell_type": "code",
   "execution_count": null,
   "metadata": {},
   "outputs": [],
   "source": [
    "# Provide recommendations based on segment characteristics\n",
    "for cluster in summary['Cluster']:\n",
    "    print(f\"Cluster {cluster}:\")\n",
    "    print(f\" - Average Income: {summary.loc[summary['Cluster'] == cluster, 'Income'].values[0]}\")\n",
    "    print(f\" - Average Total Purchase Value: {summary.loc[summary['Cluster'] == cluster, 'MntTotal'].values[0]}\")\n",
    "    print(\" - Recommendations:\")\n",
    "    if cluster == 0:\n",
    "        print(\"   * Focus on retaining these high-value customers with loyalty programs and exclusive offers.\")\n",
    "    elif cluster == 1:\n",
    "        print(\"   * Encourage higher purchase frequency with targeted promotions and reminders.\")\n",
    "    else:\n",
    "        print(\"   * Identify potential high-value customers in this segment and target them with personalized marketing.\")\n",
    "    print()"
   ]
  }
 ],
 "metadata": {
  "kernelspec": {
   "display_name": "Python 3",
   "language": "python",
   "name": "python3"
  },
  "language_info": {
   "codemirror_mode": {
    "name": "ipython",
    "version": 3
   },
   "file_extension": ".py",
   "mimetype": "text/x-python",
   "name": "python",
   "nbconvert_exporter": "python",
   "pygments_lexer": "ipython3",
   "version": "3.12.2"
  }
 },
 "nbformat": 4,
 "nbformat_minor": 2
}
