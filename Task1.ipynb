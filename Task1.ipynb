{
 "cells": [
  {
   "cell_type": "code",
   "execution_count": null,
   "metadata": {},
   "outputs": [],
   "source": [
    "import pandas as pd\n",
    "import matplotlib.pyplot as plt\n",
    "import seaborn as sns"
   ]
  },
  {
   "cell_type": "code",
   "execution_count": null,
   "metadata": {},
   "outputs": [],
   "source": [
    "\n",
    "# Load the dataset\n",
    "data = pd.read_csv('retail_sales_dataset.csv')\n",
    "\n",
    "# Data Cleaning\n",
    "data = data.dropna()  # Dropping missing values\n",
    "data['Date'] = pd.to_datetime(data['Date'])\n",
    "\n",
    "# Ensure numerical columns are of appropriate data type\n",
    "data['Quantity'] = data['Quantity'].astype(float)\n",
    "data['Price per Unit'] = data['Price per Unit'].astype(float)\n",
    "data['Total Amount'] = data['Total Amount'].astype(float)"
   ]
  },
  {
   "cell_type": "code",
   "execution_count": null,
   "metadata": {},
   "outputs": [],
   "source": [
    "# Descriptive Statistics\n",
    "mean_sales = data['Total Amount'].mean()\n",
    "median_sales = data['Total Amount'].median()\n",
    "mode_sales = data['Total Amount'].mode()[0]\n",
    "std_sales = data['Total Amount'].std()\n",
    "\n",
    "print(f\"Mean Sales: {mean_sales}\")\n",
    "print(f\"Median Sales: {median_sales}\")\n",
    "print(f\"Mode Sales: {mode_sales}\")\n",
    "print(f\"Standard Deviation of Sales: {std_sales}\")"
   ]
  },
  {
   "cell_type": "code",
   "execution_count": null,
   "metadata": {},
   "outputs": [],
   "source": [
    "# Time Series Analysis\n",
    "plt.figure(figsize=(12, 6))\n",
    "plt.plot(data['Date'], data['Total Amount'])\n",
    "plt.title('Sales Over Time')\n",
    "plt.xlabel('Date')\n",
    "plt.ylabel('Total Amount')\n",
    "plt.show()\n",
    "\n",
    "monthly_sales = data.set_index('Date').resample('M')['Total Amount'].sum()\n",
    "\n",
    "plt.figure(figsize=(12, 6))\n",
    "plt.plot(monthly_sales)\n",
    "plt.title('Monthly Sales Over Time')\n",
    "plt.xlabel('Date')\n",
    "plt.ylabel('Total Amount')\n",
    "plt.show()"
   ]
  },
  {
   "cell_type": "code",
   "execution_count": null,
   "metadata": {},
   "outputs": [],
   "source": [
    "# Customer and Product Analysis\n",
    "customer_age_distribution = data['Age'].value_counts()\n",
    "customer_gender_distribution = data['Gender'].value_counts()\n",
    "\n",
    "customer_age_distribution.plot(kind='bar')\n",
    "plt.title('Customer Age Distribution')\n",
    "plt.xlabel('Age')\n",
    "plt.ylabel('Count')\n",
    "plt.show()\n",
    "\n",
    "customer_gender_distribution.plot(kind='bar')\n",
    "plt.title('Customer Gender Distribution')\n",
    "plt.xlabel('Gender')\n",
    "plt.ylabel('Count')\n",
    "plt.show()\n",
    "\n",
    "purchase_frequency = data['Customer ID'].value_counts()\n",
    "average_spending = data.groupby('Customer ID')['Total Amount'].mean()\n",
    "popular_products = data['Product Category'].value_counts().head(10)\n",
    "\n",
    "purchase_frequency.plot(kind='bar')\n",
    "plt.title('Purchase Frequency')\n",
    "plt.xlabel('Customer ID')\n",
    "plt.ylabel('Frequency')\n",
    "plt.show()\n",
    "\n",
    "average_spending.plot(kind='bar')\n",
    "plt.title('Average Spending Per Customer')\n",
    "plt.xlabel('Customer ID')\n",
    "plt.ylabel('Average Spending')\n",
    "plt.show()\n",
    "\n",
    "popular_products.plot(kind='bar')\n",
    "plt.title('Top 10 Popular Products')\n",
    "plt.xlabel('Product Category')\n",
    "plt.ylabel('Count')\n",
    "plt.show()"
   ]
  },
  {
   "cell_type": "code",
   "execution_count": null,
   "metadata": {},
   "outputs": [],
   "source": [
    "# Visualization - Heatmap for correlation analysis\n",
    "numeric_data = data[['Quantity', 'Price per Unit', 'Total Amount']]\n",
    "corr = numeric_data.corr()\n",
    "plt.figure(figsize=(10, 8))\n",
    "sns.heatmap(corr, annot=True, cmap='coolwarm')\n",
    "plt.title('Correlation Heatmap')\n",
    "plt.show()"
   ]
  },
  {
   "cell_type": "code",
   "execution_count": null,
   "metadata": {},
   "outputs": [],
   "source": [
    "# Recommendations\n",
    "recommendations = \"\"\"\n",
    "1. Increase marketing efforts during peak sales seasons identified in the time series analysis.\n",
    "2. Target marketing campaigns based on customer demographics, focusing on the most profitable customer segments.\n",
    "3. Stock up on the top-selling products identified in the product analysis to prevent stockouts.\n",
    "4. Implement loyalty programs to increase purchase frequency among customers with high average spending.\n",
    "\"\"\"\n",
    "\n",
    "print(recommendations)\n"
   ]
  }
 ],
 "metadata": {
  "kernelspec": {
   "display_name": "Python 3",
   "language": "python",
   "name": "python3"
  },
  "language_info": {
   "codemirror_mode": {
    "name": "ipython",
    "version": 3
   },
   "file_extension": ".py",
   "mimetype": "text/x-python",
   "name": "python",
   "nbconvert_exporter": "python",
   "pygments_lexer": "ipython3",
   "version": "3.12.2"
  }
 },
 "nbformat": 4,
 "nbformat_minor": 2
}
